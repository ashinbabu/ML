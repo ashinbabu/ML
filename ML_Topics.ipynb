{
  "nbformat": 4,
  "nbformat_minor": 0,
  "metadata": {
    "colab": {
      "provenance": []
    },
    "kernelspec": {
      "name": "python3",
      "display_name": "Python 3"
    },
    "language_info": {
      "name": "python"
    }
  },
  "cells": [
    {
      "cell_type": "markdown",
      "source": [
        "###Loading Dataset"
      ],
      "metadata": {
        "id": "Qzxr7WpOTCB5"
      }
    },
    {
      "cell_type": "code",
      "source": [
        "from sklearn import datasets\n",
        "from sklearn.model_selection import train_test_split\n",
        "from sklearn.preprocessing import StandardScaler\n",
        "#load dataset\n",
        "iris= datasets.load_iris()\n",
        "\n",
        "\n",
        "\n"
      ],
      "metadata": {
        "id": "OsgTLpwCTEHY"
      },
      "execution_count": null,
      "outputs": []
    },
    {
      "cell_type": "markdown",
      "source": [
        "### Standardization of Data"
      ],
      "metadata": {
        "id": "SYIEqJlgrHpn"
      }
    },
    {
      "cell_type": "code",
      "source": [
        "from sklearn import datasets\n",
        "from sklearn.model_selection import train_test_split\n",
        "from sklearn.preprocessing import StandardScaler\n",
        "#load dataset\n",
        "iris= datasets.load_iris()\n",
        "\n",
        "\n",
        "x =iris.data\n",
        "y=iris.target\n",
        "\n",
        "x_train,x_test,y_train,y_test = train_test_split(x,y,test_size=0.33)#split the data\n",
        "\n",
        "std_slc = StandardScaler()\n",
        "std_slc.fit(x_train)\n",
        "x_train_std=std_slc.transform(x_train)\n",
        "x_test_std=std_slc.transform(x_test)\n",
        "\n",
        "print(x_train[0:5])\n",
        "print(x_train_std[0:5])\n",
        "print(x_test[0:5])\n",
        "print(x_test_std[0:5])\n",
        "\n",
        "\n",
        "\n"
      ],
      "metadata": {
        "colab": {
          "base_uri": "https://localhost:8080/"
        },
        "id": "VH6zqQHdrsFs",
        "outputId": "02220dae-6871-4608-a7d9-286ce52e81a0"
      },
      "execution_count": null,
      "outputs": [
        {
          "output_type": "stream",
          "name": "stdout",
          "text": [
            "[[4.8 3.4 1.9 0.2]\n",
            " [6.1 2.8 4.  1.3]\n",
            " [5.8 2.6 4.  1.2]\n",
            " [6.  2.2 4.  1. ]\n",
            " [5.4 3.9 1.7 0.4]]\n",
            "[[-1.25973936  0.79114124 -1.09592723 -1.35455693]\n",
            " [ 0.34581081 -0.58875627  0.15282328  0.12804269]\n",
            " [-0.02470077 -1.0487221   0.15282328 -0.00673909]\n",
            " [ 0.22230695 -1.96865377  0.15282328 -0.27630266]\n",
            " [-0.51871621  1.94105582 -1.21485585 -1.08499336]]\n",
            "[[5.7 2.6 3.5 1. ]\n",
            " [5.  2.3 3.3 1. ]\n",
            " [5.4 3.  4.5 1.5]\n",
            " [6.7 3.3 5.7 2.1]\n",
            " [7.3 2.9 6.3 1.8]]\n",
            "[[-0.14820463 -1.0487221  -0.14449827 -0.27630266]\n",
            " [-1.01273164 -1.73867086 -0.26342689 -0.27630266]\n",
            " [-0.51871621 -0.12879043  0.45014482  0.39760626]\n",
            " [ 1.08683396  0.56115832  1.16371654  1.20629697]\n",
            " [ 1.82785711 -0.35877335  1.5205024   0.80195161]]\n"
          ]
        }
      ]
    },
    {
      "cell_type": "markdown",
      "source": [],
      "metadata": {
        "id": "TCmgySFF8oPP"
      }
    },
    {
      "cell_type": "markdown",
      "source": [
        "\n",
        "### Label Encoder, One hot Encoder"
      ],
      "metadata": {
        "id": "IBrOLfk58pZa"
      }
    },
    {
      "cell_type": "code",
      "source": [
        "species=list(iris.target_names)\n",
        "\n",
        "from sklearn import preprocessing\n",
        "label_encoder = preprocessing.LabelEncoder()\n",
        "l=label_encoder.fit_transform(species)\n",
        "\n",
        "print(l)"
      ],
      "metadata": {
        "colab": {
          "base_uri": "https://localhost:8080/"
        },
        "id": "XPj1M0pY8y4c",
        "outputId": "0046cdb3-4475-46bf-f338-bd0b6f3c6d33"
      },
      "execution_count": null,
      "outputs": [
        {
          "output_type": "stream",
          "name": "stdout",
          "text": [
            "[0 1 2]\n"
          ]
        }
      ]
    },
    {
      "cell_type": "code",
      "source": [
        "from sklearn.preprocessing import LabelEncoder\n",
        "from sklearn.preprocessing import OneHotEncoder\n",
        "\n",
        "### Categorical data to be converted to numeric data\n",
        "colors = ([\"red\", \"green\", \"yellow\", \"red\", \"blue\"])\n",
        "\n",
        "### integer mapping using LabelEncoder\n",
        "label_encoder = LabelEncoder()\n",
        "integer_encoded = label_encoder.fit_transform(colors)\n",
        "print(integer_encoded)\n",
        "integer_encoded = integer_encoded.reshape(len(integer_encoded), 1)\n",
        "\n",
        "### One hot encoding\n",
        "onehot_encoder = OneHotEncoder(sparse=False)\n",
        "onehot_encoded = onehot_encoder.fit_transform(integer_encoded)\n",
        "\n",
        "print(onehot_encoded)"
      ],
      "metadata": {
        "colab": {
          "base_uri": "https://localhost:8080/"
        },
        "id": "eLYWrd5xRTt5",
        "outputId": "b8c315cb-85ca-40c0-d4dd-dfcfc8c57959"
      },
      "execution_count": null,
      "outputs": [
        {
          "output_type": "stream",
          "name": "stdout",
          "text": [
            "[2 1 3 2 0]\n",
            "[[0. 0. 1. 0.]\n",
            " [0. 1. 0. 0.]\n",
            " [0. 0. 0. 1.]\n",
            " [0. 0. 1. 0.]\n",
            " [1. 0. 0. 0.]]\n"
          ]
        }
      ]
    }
  ]
}